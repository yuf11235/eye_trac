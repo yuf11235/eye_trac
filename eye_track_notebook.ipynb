{
 "cells": [
  {
   "cell_type": "code",
   "execution_count": 1,
   "metadata": {},
   "outputs": [],
   "source": [
    "import numpy as np\n",
    "import cv2\n",
    "import dlib\n",
    "import matplotlib.pyplot as plt"
   ]
  },
  {
   "cell_type": "code",
   "execution_count": 2,
   "metadata": {},
   "outputs": [],
   "source": [
    "# 加载算法模型\n",
    "detector = dlib.get_frontal_face_detector()\n",
    "predictor = dlib.shape_predictor('etc/shape_predictor_68_face_landmarks.dat')"
   ]
  },
  {
   "cell_type": "code",
   "execution_count": 3,
   "metadata": {},
   "outputs": [
    {
     "name": "stdout",
     "output_type": "stream",
     "text": [
      "(240, 360, 3)\n",
      "(480, 641, 3)\n"
     ]
    }
   ],
   "source": [
    "# 读取图像文件\n",
    "img = cv2.imread(\"data\\\\beauty.jpg\")\n",
    "print(img.shape)\n",
    "fy = round((480 / img.shape[0]), 2)\n",
    "fx = round((640 / img.shape[1]), 2)\n",
    "img = cv2.resize(img, None, fx=fx, fy=fy, interpolation=cv2.INTER_CUBIC)\n",
    "print(img.shape)\n",
    "gray = cv2.cvtColor(img, cv2.COLOR_RGB2GRAY)"
   ]
  },
  {
   "cell_type": "code",
   "execution_count": 4,
   "metadata": {},
   "outputs": [],
   "source": [
    "# 识别人脸区域\n",
    "rects = detector(gray, 1)\n",
    "rect = rects[0]\n",
    "# 识别人脸特征点\n",
    "landmarks = np.array([[p.x, p.y] for p in predictor(img, rect).parts()])\n",
    "# 标记人脸区域和特征点\n",
    "img = cv2.rectangle(img, (rect.left(), rect.top()),\n",
    "                    (rect.right(), rect.bottom()), (255, 255, 255))\n",
    "for idx, point in enumerate(landmarks):\n",
    "    pos = (point[0], point[1])\n",
    "    cv2.circle(img, pos, 1, color=(0, 255, 0))"
   ]
  },
  {
   "cell_type": "code",
   "execution_count": 5,
   "metadata": {},
   "outputs": [],
   "source": [
    "# 标记眼部位置，框出眼睛位置\n",
    "eye_list = landmarks[36: 42]\n",
    "o_x = min(eye_list[:, 0])\n",
    "o_y = min(eye_list[:, 1])\n",
    "eye_right_down_x = max(eye_list[:, 0])\n",
    "eye_right_down_y = max(eye_list[:, 1])\n",
    "img = cv2.rectangle(img, (o_x, o_y), \n",
    "                    (eye_right_down_x, eye_right_down_y), (255, 255, 255))\n",
    "left_eye = gray[o_y: eye_right_down_y, o_x: eye_right_down_x]"
   ]
  },
  {
   "cell_type": "code",
   "execution_count": 10,
   "metadata": {},
   "outputs": [],
   "source": [
    "# 转换为二值图\n",
    "maxi = float(left_eye.max())\n",
    "mini = float(left_eye.min())\n",
    "x = maxi - ((maxi - mini) // 1.4)\n",
    "# 二值化,返回阈值ret  和  二值化操作后的图像thresh\n",
    "ret, thresh = cv2.threshold(left_eye, x, 255, cv2.THRESH_BINARY)\n",
    "cv2.imshow('binary', thresh)"
   ]
  },
  {
   "cell_type": "code",
   "execution_count": 7,
   "metadata": {},
   "outputs": [],
   "source": [
    "# 用数学形态学处理一下\n",
    "# 消除小的区域，保留大块的区域，从而定位车牌\n",
    "# 进行闭运算\n",
    "kernel = np.ones((3, 2), np.uint8)\n",
    "closing_img = cv2.morphologyEx(thresh, cv2.MORPH_CLOSE, kernel)\n",
    "cv2.imshow(\"closing_img\", closing_img)\n",
    "# 进行开运算\n",
    "kernel = np.ones((2, 2), np.uint8)\n",
    "opening_img = cv2.morphologyEx(closing_img, cv2.MORPH_OPEN, kernel)\n",
    "cv2.imshow(\"opening_img_1\", opening_img)\n",
    "\n",
    "# 尝试一下hough变化检测圆,。。。。。。不幸的是，尝试失败了，瞳孔一般也不会全部露出来的\n",
    "# circles = cv2.HoughCircles(\n",
    "#     image=opening_img, method=cv2.HOUGH_GRADIENT, dp=1, minDist=6)\n",
    "# print(circles)\n",
    "\n",
    "# 尝试一下检测眼部轮廓后，计算眼白的比例进行判断，感觉还是这个靠谱一点吧，谁知道呢\n",
    "contours, hierarchy = cv2.findContours(thresh, cv2.RETR_EXTERNAL, cv2.CHAIN_APPROX_NONE)\n",
    "# cv2.drawContours(thresh, contours, -1, (0, 0, 255), 3)\n",
    "cv2.imshow(\"img\", thresh)\n",
    "# cv2.waitKey(0)\n",
    "\n",
    "\n",
    "\n",
    "# # 进行闭运算\n",
    "# kernel = np.ones((4, 1), np.uint8)\n",
    "# closing_img = cv2.morphologyEx(opening_img, cv2.MORPH_CLOSE, kernel)\n",
    "# cv2.imshow(\"closing_img_2\", closing_img)\n",
    "# binary_eye = closing_img_2\n",
    "# kernel_2 = cv2.getStructuringElement(cv2.MORPH_RECT, (5, 5))\n",
    "# kernel_dilated = cv2.dilate(closing_img, kernel_2)\n",
    "# cv2.imshow('kernel_dilated', kernel_dilated)\n",
    "# 求出眼球的边缘，使用canny检测\n",
    "# cannyimg = cv2.Canny(closing_img, closing_img.shape[0], closing_img.shape[1])\n",
    "# cv2.imshow(\"cannyimg\", thresh)\n",
    "\n",
    "# 求出瞳仁位置及其相对于直视时瞳孔的位置，用重心法\n",
    "# binary_eye = binary_eye == 0"
   ]
  },
  {
   "cell_type": "code",
   "execution_count": 8,
   "metadata": {},
   "outputs": [
    {
     "name": "stdout",
     "output_type": "stream",
     "text": [
      "(x_c, y_c) = (26.217054263565892, 8.550387596899224)\n",
      "(x_orth, y_orth) = (22.5, 9.333333333333343)\n",
      "中\n",
      "中\n"
     ]
    }
   ],
   "source": [
    "binary_eye = opening_img == 0\n",
    "x_c = np.sum(np.dot(binary_eye, np.arange(\n",
    "    binary_eye.shape[1]))) / np.sum(binary_eye)\n",
    "y_c = np.sum(np.dot(binary_eye.T, np.arange(\n",
    "    binary_eye.shape[0]))) / np.sum(binary_eye)\n",
    "print(\"(x_c, y_c) = ({}, {})\".format(x_c, y_c))\n",
    "# 不妨设直视时，瞳孔的为值为37、38、40、41几个点的平均值\n",
    "x_orth, y_orth = np.sum(eye_list.reshape(-1, 2), axis=0) / 6 - [o_x, o_y]\n",
    "print(\"(x_orth, y_orth) = ({}, {})\".format(x_orth, y_orth))\n",
    "# 判断眼睛向左向右\n",
    "if x_c <= x_orth*0.8:\n",
    "    h_direction = '右'\n",
    "elif x_c <= x_orth*1.2:\n",
    "    h_direction = '中'\n",
    "else:\n",
    "    h_direction = '左'\n",
    "print(h_direction)\n",
    "# 判断眼睛向上向下\n",
    "if y_c <= y_orth*0.75:\n",
    "    v_direction = '上'\n",
    "elif y_c <= y_orth*1.25:\n",
    "    v_direction = '中'\n",
    "else:\n",
    "    v_direction = '下'\n",
    "print(v_direction)"
   ]
  },
  {
   "cell_type": "code",
   "execution_count": 9,
   "metadata": {},
   "outputs": [],
   "source": [
    "cv2.imshow('landmarks', img)\n",
    "# 释放资源\n",
    "cv2.waitKey()\n",
    "cv2.destroyAllWindows()"
   ]
  },
  {
   "cell_type": "code",
   "execution_count": null,
   "metadata": {},
   "outputs": [],
   "source": []
  }
 ],
 "metadata": {
  "kernelspec": {
   "display_name": "Python 3",
   "language": "python",
   "name": "python3"
  },
  "language_info": {
   "codemirror_mode": {
    "name": "ipython",
    "version": 3
   },
   "file_extension": ".py",
   "mimetype": "text/x-python",
   "name": "python",
   "nbconvert_exporter": "python",
   "pygments_lexer": "ipython3",
   "version": "3.7.4"
  }
 },
 "nbformat": 4,
 "nbformat_minor": 2
}
